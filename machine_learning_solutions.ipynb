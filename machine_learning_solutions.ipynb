{
 "cells": [
  {
   "cell_type": "markdown",
   "metadata": {},
   "source": [
    "# WELCOME to my Notebook. Please run this notebook to get the actual submissions.csv file"
   ]
  },
  {
   "cell_type": "code",
   "execution_count": 7,
   "metadata": {},
   "outputs": [
    {
     "name": "stdout",
     "output_type": "stream",
     "text": [
      "Number of data points:  28126\n",
      "Number of features:  180\n"
     ]
    }
   ],
   "source": [
    "%matplotlib inline  \n",
    "import matplotlib.pyplot as pl\n",
    "import csv\n",
    "\n",
    "# This block of code takes care of preprocessing the training dataset\n",
    "with open('df_training_scholarjet.csv') as csv_file:\n",
    "    my_reader = csv.reader(csv_file)\n",
    "    count = 0\n",
    "    X = []\n",
    "    revenue_labels = []\n",
    "    conversion_labels = []\n",
    "    \n",
    "    # This dictionary helps us in converting categorical features into numerical features\n",
    "    float_converter = {'Onboarding': '0.0', 'Retention': '1.0', 'Unmanaged': '2.0', 'Enrolled': '0.0', 'Active': '1.0', 'In Progress': '2.0', 'Inactive': '3.0', 'Unconfirmed': '4.0', 'Business': '0.0', 'Trade': '1.0', 'US': '0.0', 'CA': '1.0', 'Internal Application': '0.0', 'Search - Paid': '1.0', 'Internal Customer Scrape': '2.0', 'Affiliates': '3.0', 'External Application': '4.0', 'Social - Paid': '5.0', 'Other': '6.0', 'Email': '7.0', 'Display - Retargeting': '8.0', 'Gateway': '9.0', 'Display - Acquisition': '10.0', 'Bulk Upload': '11.0', 'Quotes': '12.0', 'Referral': '13.0', 'Self ID': '14.0', 'Partners': '15.0', 'None': '0.0', 'Primary': '1.0', 'Purchaser': '2.0', 'Other': '3.0', '6to10': '2.0', '11to50': '3.0', '50plus': '4.0', '2to5': '5.0', '1to2': '1.0', '3to5': '3.0', '11to25': '4.0', '25plus': '5.0', 'lessthan1': '1.0', '1to5': '2.0', '5to25': '3.0', '100plus': '4.0', '25to100': '5.0', 'directEIN': '0.0', 'phone': '1.0', 'email': '2.0', 'liveTransfer': '3.0', 'other': '4.0', 'directOther': '5.0'}\n",
    "    for row in my_reader:\n",
    "        if count > 0:\n",
    "            new_row = []\n",
    "            for item in row[4:]:\n",
    "                # If an attribute of a datapoint is unknown, we append 0 as default\n",
    "                if len(item) == 0:\n",
    "                    new_row.append('0.0')\n",
    "                else:\n",
    "                    try:\n",
    "                        # Filtering out the categorical attributes\n",
    "                        float(item)\n",
    "                        new_row.append(item)\n",
    "                    except:\n",
    "                        # Converting the categorical attributes to numerical\n",
    "                        new_row.append(float_converter[item])\n",
    "            conversion_labels.append(row[2])\n",
    "            revenue_labels.append(row[3])\n",
    "            X.append(new_row)\n",
    "        count += 1\n",
    "    \n",
    "    print(\"Number of data points: \", len(X))\n",
    "    print(\"Number of features: \", len(X[0]))\n",
    "        \n",
    "    "
   ]
  },
  {
   "cell_type": "code",
   "execution_count": 4,
   "metadata": {},
   "outputs": [
    {
     "name": "stdout",
     "output_type": "stream",
     "text": [
      "Number of testing samples:  30375\n",
      "Number of features:  180\n"
     ]
    }
   ],
   "source": [
    "# This block of code takes care of preprocessing the test dataset just like the train dataset\n",
    "with open('df_holdout_scholarjet.csv') as csv_file:\n",
    "    my_reader = csv.reader(csv_file)\n",
    "    count = 0\n",
    "    test = []\n",
    "    revenue_labels = []\n",
    "    conversion_labels = []\n",
    "    cuid = []\n",
    "    float_converter = {'Onboarding': '0.0', 'Retention': '1.0', 'Unmanaged': '2.0', 'Enrolled': '0.0', 'Active': '1.0', 'In Progress': '2.0', 'Inactive': '3.0', 'Unconfirmed': '4.0', 'Business': '0.0', 'Trade': '1.0', 'US': '0.0', 'CA': '1.0', 'Internal Application': '0.0', 'Search - Paid': '1.0', 'Internal Customer Scrape': '2.0', 'Affiliates': '3.0', 'External Application': '4.0', 'Social - Paid': '5.0', 'Other': '6.0', 'Email': '7.0', 'Display - Retargeting': '8.0', 'Gateway': '9.0', 'Display - Acquisition': '10.0', 'Bulk Upload': '11.0', 'Quotes': '12.0', 'Referral': '13.0', 'Self ID': '14.0', 'Partners': '15.0', 'None': '0.0', 'Primary': '1.0', 'Purchaser': '2.0', 'Other': '3.0', '6to10': '2.0', '11to50': '3.0', '50plus': '4.0', '2to5': '5.0', '1to2': '1.0', '3to5': '3.0', '11to25': '4.0', '25plus': '5.0', 'lessthan1': '1.0', '1to5': '2.0', '5to25': '3.0', '100plus': '4.0', '25to100': '5.0', 'directEIN': '0.0', 'phone': '1.0', 'email': '2.0', 'liveTransfer': '3.0', 'other': '4.0', 'directOther': '5.0'}\n",
    "    for row in my_reader:\n",
    "        if count > 0:\n",
    "            new_row = []\n",
    "            for item in row[2:]:\n",
    "                if len(item) == 0:\n",
    "                    new_row.append('0.0')\n",
    "                else:\n",
    "                    try:\n",
    "                        float(item)\n",
    "                        new_row.append(item)\n",
    "                    except:\n",
    "                        new_row.append(float_converter[item])\n",
    "            new_row = [float(item) for item in new_row]\n",
    "            cuid.append(row[1])\n",
    "            test.append(new_row)\n",
    "        count += 1\n",
    "    \n",
    "    print(\"Number of testing samples: \", len(test))\n",
    "    print(\"Number of features: \", len(test[0]))\n",
    "        \n",
    "    "
   ]
  },
  {
   "cell_type": "code",
   "execution_count": 24,
   "metadata": {},
   "outputs": [
    {
     "name": "stderr",
     "output_type": "stream",
     "text": [
      "C:\\Users\\Shark\\Anaconda3\\lib\\site-packages\\sklearn\\svm\\base.py:193: FutureWarning: The default value of gamma will change from 'auto' to 'scale' in version 0.22 to account better for unscaled features. Set gamma explicitly to 'auto' or 'scale' to avoid this warning.\n",
      "  \"avoid this warning.\", FutureWarning)\n"
     ]
    },
    {
     "data": {
      "text/plain": [
       "SVC(C=1.0, cache_size=200, class_weight=None, coef0=0.0,\n",
       "    decision_function_shape='ovr', degree=3, gamma='auto_deprecated',\n",
       "    kernel='rbf', max_iter=-1, probability=True, random_state=None,\n",
       "    shrinking=True, tol=0.001, verbose=False)"
      ]
     },
     "execution_count": 24,
     "metadata": {},
     "output_type": "execute_result"
    }
   ],
   "source": [
    "from sklearn.svm import SVC\n",
    "from sklearn.model_selection import GridSearchCV\n",
    "\n",
    "# Creating an SVM with default parameters but making sure it has the ability to predict probability\n",
    "clf = SVC(probability = True)\n",
    "clf.fit(X, conversion_labels)\n"
   ]
  },
  {
   "cell_type": "code",
   "execution_count": 31,
   "metadata": {},
   "outputs": [
    {
     "name": "stdout",
     "output_type": "stream",
     "text": [
      "['0' '0' '0' ..., '0' '0' '0']\n"
     ]
    }
   ],
   "source": [
    "# Using the default SVM to predict conversion probabilities\n",
    "svm_conversions = clf.predict_proba(test)\n",
    "print(svm_conversions)\n",
    "\n",
    "# Visualizing the information in a boxplot\n",
    "plt.title(\"Boxplot for a Default SVM\")\n",
    "plt.boxplot(svm_conversions)\n",
    "plt.show()"
   ]
  },
  {
   "cell_type": "code",
   "execution_count": null,
   "metadata": {},
   "outputs": [
    {
     "name": "stdout",
     "output_type": "stream",
     "text": [
      "Creating a Logistic Regression\n"
     ]
    },
    {
     "name": "stderr",
     "output_type": "stream",
     "text": [
      "C:\\Users\\Shark\\Anaconda3\\lib\\site-packages\\sklearn\\linear_model\\logistic.py:432: FutureWarning: Default solver will be changed to 'lbfgs' in 0.22. Specify a solver to silence this warning.\n",
      "  FutureWarning)\n",
      "C:\\Users\\Shark\\Anaconda3\\lib\\site-packages\\sklearn\\linear_model\\logistic.py:469: FutureWarning: Default multi_class will be changed to 'auto' in 0.22. Specify the multi_class option to silence this warning.\n",
      "  \"this warning.\", FutureWarning)\n"
     ]
    }
   ],
   "source": [
    "from sklearn.linear_model import LogisticRegression as lr\n",
    "\n",
    "# Creating a regression model for predicting revenues \n",
    "print(\"Creating a Logistic Regression\")\n",
    "clf2 = lr()\n",
    "clf2.fit(X, revenue_labels)\n",
    "print(\"Done creating it\")\n"
   ]
  },
  {
   "cell_type": "code",
   "execution_count": 5,
   "metadata": {},
   "outputs": [
    {
     "ename": "NameError",
     "evalue": "name 'clf2' is not defined",
     "output_type": "error",
     "traceback": [
      "\u001b[1;31m---------------------------------------------------------------------------\u001b[0m",
      "\u001b[1;31mNameError\u001b[0m                                 Traceback (most recent call last)",
      "\u001b[1;32m<ipython-input-5-ebbe7f989823>\u001b[0m in \u001b[0;36m<module>\u001b[1;34m()\u001b[0m\n\u001b[1;32m----> 1\u001b[1;33m \u001b[0mrevenues\u001b[0m \u001b[1;33m=\u001b[0m \u001b[0mclf2\u001b[0m\u001b[1;33m.\u001b[0m\u001b[0mpredict\u001b[0m\u001b[1;33m(\u001b[0m\u001b[0mtest\u001b[0m\u001b[1;33m)\u001b[0m\u001b[1;33m\u001b[0m\u001b[0m\n\u001b[0m\u001b[0;32m      2\u001b[0m \u001b[0mprint\u001b[0m\u001b[1;33m(\u001b[0m\u001b[0mrevenues\u001b[0m\u001b[1;33m)\u001b[0m\u001b[1;33m\u001b[0m\u001b[0m\n\u001b[0;32m      3\u001b[0m \u001b[0mplt\u001b[0m\u001b[1;33m.\u001b[0m\u001b[0mtitle\u001b[0m\u001b[1;33m(\u001b[0m\u001b[1;34m\"Boxplot for Logistic Regression\"\u001b[0m\u001b[1;33m)\u001b[0m\u001b[1;33m\u001b[0m\u001b[0m\n\u001b[0;32m      4\u001b[0m \u001b[0mplt\u001b[0m\u001b[1;33m.\u001b[0m\u001b[0mboxplot\u001b[0m\u001b[1;33m(\u001b[0m\u001b[0mrevenues\u001b[0m\u001b[1;33m)\u001b[0m\u001b[1;33m\u001b[0m\u001b[0m\n\u001b[0;32m      5\u001b[0m \u001b[0mplt\u001b[0m\u001b[1;33m.\u001b[0m\u001b[0mshow\u001b[0m\u001b[1;33m(\u001b[0m\u001b[1;33m)\u001b[0m\u001b[1;33m\u001b[0m\u001b[0m\n",
      "\u001b[1;31mNameError\u001b[0m: name 'clf2' is not defined"
     ]
    }
   ],
   "source": [
    "revenues = clf2.predict(test)\n",
    "print(revenues)\n",
    "plt.title(\"Boxplot for Logistic Regression\")\n",
    "plt.boxplot(revenues)\n",
    "plt.show()"
   ]
  },
  {
   "cell_type": "code",
   "execution_count": null,
   "metadata": {
    "collapsed": true
   },
   "outputs": [],
   "source": [
    "# This piece of code totally works but is taking too long to execute\n",
    "\"\"\"\n",
    "from sklearn.svm import SVC\n",
    "from sklearn.model_selection import GridSearchCV\n",
    "\n",
    "# Applying Hyperparameter tuning for a more accurate SVM\n",
    "parameters = {'C': [1, 10, 100, 1000], 'gamma': [0.001, 0.0001], 'kernel': ['rbf'],\n",
    "                                  'probability': [True]}\n",
    "grid = GridSearchCV(SVC(), parameters, cv=10)\n",
    "grid.fit(X, conversion_labels)\n",
    "params = grid.best_params_\n",
    "print(params)\n",
    "clf3 = SVC(**params)\n",
    "\n",
    "\n",
    "clf3.fit(X, conversion_labels)\n",
    "\"\"\""
   ]
  },
  {
   "cell_type": "code",
   "execution_count": 2,
   "metadata": {},
   "outputs": [
    {
     "name": "stderr",
     "output_type": "stream",
     "text": [
      "Using TensorFlow backend.\n"
     ]
    }
   ],
   "source": [
    "from keras import Sequential\n",
    "from keras.layers import Dense\n",
    "\n",
    "try:\n",
    "    #Sequential is the classical option for creating a NN in Keras (multiple layers interconnected)\n",
    "    classifier = Sequential()\n",
    "    \"\"\"\n",
    "    We have 101 input features and one target variable (friend/foe), 2 hidden layers each hidden \n",
    "    layer have 4 nodes.\n",
    "    \"\"\"\n",
    "    #First Hidden Layer\n",
    "    classifier.add(Dense(4, activation='relu', kernel_initializer='random_normal', input_dim=180))\n",
    "    #Second  Hidden Layer\n",
    "    classifier.add(Dense(4, activation='relu', kernel_initializer='random_normal'))\n",
    "    #Output Layer\n",
    "    classifier.add(Dense(1, activation='sigmoid', kernel_initializer='random_normal'))\n",
    "\n",
    "    \"\"\"\n",
    "    *As this is a binary classification problem, we use binary_crossentropy to calculate the loss function \n",
    "    between the actual output and the predicted output.\n",
    "\n",
    "    *To optimize the Neural Network Adam approach is used. Adam stands for Adaptive moment estimation. Adam \n",
    "    is a combination of RMSProp + Momentum. Momentum takes the past gradients into account in order to \n",
    "    smooth out the gradient descent.\n",
    "    \"\"\"\n",
    "    #Compiling the neural network\n",
    "    classifier.compile(optimizer ='adam',loss='binary_crossentropy', metrics =['accuracy'])\n",
    "except IOError as e:\n",
    "    print (\"Could not read file\")\n",
    "    print(e)\n",
    "except Exception as e:\n",
    "    print (\"Unexpected error\")\n",
    "    print(e)     "
   ]
  },
  {
   "cell_type": "code",
   "execution_count": 6,
   "metadata": {},
   "outputs": [
    {
     "name": "stdout",
     "output_type": "stream",
     "text": [
      "Epoch 1/10\n",
      "28126/28126 [==============================] - 3s 119us/step - loss: 0.3894 - acc: 0.8898\n",
      "Epoch 2/10\n",
      "28126/28126 [==============================] - 3s 104us/step - loss: 0.3150 - acc: 0.8959\n",
      "Epoch 3/10\n",
      "28126/28126 [==============================] - 3s 102us/step - loss: 0.3087 - acc: 0.8959\n",
      "Epoch 4/10\n",
      "28126/28126 [==============================] - 3s 104us/step - loss: 0.2988 - acc: 0.8959\n",
      "Epoch 5/10\n",
      "28126/28126 [==============================] - 3s 103us/step - loss: 0.2984 - acc: 0.8959\n",
      "Epoch 6/10\n",
      "28126/28126 [==============================] - 3s 102us/step - loss: 0.2927 - acc: 0.8959\n",
      "Epoch 7/10\n",
      "28126/28126 [==============================] - 3s 103us/step - loss: 0.2914 - acc: 0.8959\n",
      "Epoch 8/10\n",
      "28126/28126 [==============================] - 3s 103us/step - loss: 0.2908 - acc: 0.8959\n",
      "Epoch 9/10\n",
      "28126/28126 [==============================] - 3s 103us/step - loss: 0.2920 - acc: 0.8959\n",
      "Epoch 10/10\n",
      "28126/28126 [==============================] - 3s 104us/step - loss: 0.2889 - acc: 0.8959\n"
     ]
    },
    {
     "data": {
      "text/plain": [
       "<keras.callbacks.History at 0x299f3bf3278>"
      ]
     },
     "execution_count": 6,
     "metadata": {},
     "output_type": "execute_result"
    }
   ],
   "source": [
    "import numpy as np\n",
    "\n",
    "X = np.array(X)\n",
    "conversion_labels = np.array(conversion_labels)\n",
    "classifier.fit(X, conversion_labels, batch_size=100, epochs=10)"
   ]
  },
  {
   "cell_type": "code",
   "execution_count": 10,
   "metadata": {},
   "outputs": [
    {
     "data": {
      "image/png": "[encoded data removed]",
      "text/plain": [
       "<matplotlib.figure.Figure at 0x29a0c3c70f0>"
      ]
     },
     "metadata": {},
     "output_type": "display_data"
    }
   ],
   "source": [
    "NN_conversions = classifier.predict(test)\n",
    "print(NN_conversions)\n",
    "plt.title(\"Boxplot for Neural Network\")\n",
    "plt.boxplot(NN_conversions)\n",
    "plt.show()"
   ]
  },
  {
   "cell_type": "code",
   "execution_count": 3,
   "metadata": {},
   "outputs": [
    {
     "ename": "NameError",
     "evalue": "name 'cuid' is not defined",
     "output_type": "error",
     "traceback": [
      "\u001b[1;31m---------------------------------------------------------------------------\u001b[0m",
      "\u001b[1;31mNameError\u001b[0m                                 Traceback (most recent call last)",
      "\u001b[1;32m<ipython-input-3-52b61975fe34>\u001b[0m in \u001b[0;36m<module>\u001b[1;34m()\u001b[0m\n\u001b[0;32m      4\u001b[0m     \u001b[0mwriter\u001b[0m \u001b[1;33m=\u001b[0m \u001b[0mcsv\u001b[0m\u001b[1;33m.\u001b[0m\u001b[0mwriter\u001b[0m\u001b[1;33m(\u001b[0m\u001b[0moutfile\u001b[0m\u001b[1;33m)\u001b[0m\u001b[1;33m\u001b[0m\u001b[0m\n\u001b[0;32m      5\u001b[0m     \u001b[0mwriter\u001b[0m\u001b[1;33m.\u001b[0m\u001b[0mwriterow\u001b[0m\u001b[1;33m(\u001b[0m\u001b[1;33m[\u001b[0m\u001b[1;34m'cuid'\u001b[0m\u001b[1;33m,\u001b[0m \u001b[1;34m'convert_30'\u001b[0m\u001b[1;33m,\u001b[0m \u001b[1;34m'revenue_30'\u001b[0m\u001b[1;33m]\u001b[0m\u001b[1;33m)\u001b[0m\u001b[1;33m\u001b[0m\u001b[0m\n\u001b[1;32m----> 6\u001b[1;33m     \u001b[1;32mfor\u001b[0m \u001b[0mi\u001b[0m \u001b[1;32min\u001b[0m \u001b[0mrange\u001b[0m\u001b[1;33m(\u001b[0m\u001b[1;36m0\u001b[0m\u001b[1;33m,\u001b[0m \u001b[0mlen\u001b[0m\u001b[1;33m(\u001b[0m\u001b[0mcuid\u001b[0m\u001b[1;33m)\u001b[0m\u001b[1;33m)\u001b[0m\u001b[1;33m:\u001b[0m\u001b[1;33m\u001b[0m\u001b[0m\n\u001b[0m\u001b[0;32m      7\u001b[0m         \u001b[0mwriter\u001b[0m\u001b[1;33m.\u001b[0m\u001b[0mwriterow\u001b[0m\u001b[1;33m(\u001b[0m\u001b[1;33m[\u001b[0m\u001b[0mcuid\u001b[0m\u001b[1;33m[\u001b[0m\u001b[0mi\u001b[0m\u001b[1;33m]\u001b[0m\u001b[1;33m,\u001b[0m \u001b[0mprobabilities\u001b[0m\u001b[1;33m[\u001b[0m\u001b[0mi\u001b[0m\u001b[1;33m]\u001b[0m\u001b[1;33m,\u001b[0m \u001b[0mrevenues\u001b[0m\u001b[1;33m[\u001b[0m\u001b[0mi\u001b[0m\u001b[1;33m]\u001b[0m\u001b[1;33m]\u001b[0m\u001b[1;33m)\u001b[0m\u001b[1;33m\u001b[0m\u001b[0m\n\u001b[0;32m      8\u001b[0m \u001b[1;33m\u001b[0m\u001b[0m\n",
      "\u001b[1;31mNameError\u001b[0m: name 'cuid' is not defined"
     ]
    }
   ],
   "source": [
    "import csv\n",
    "\n",
    "with open('submission.csv', 'w', newline='') as outfile:\n",
    "    writer = csv.writer(outfile)\n",
    "    writer.writerow(['cuid', 'convert_30', 'revenue_30'])\n",
    "    for i in range(0, len(cuid)):\n",
    "        writer.writerow([cuid[i], probabilities[i], revenues[i]])\n",
    "    "
   ]
  }
 ],
 "metadata": {
  "kernelspec": {
   "display_name": "Python 3",
   "language": "python",
   "name": "python3"
  }
 },
 "nbformat": 4,
 "nbformat_minor": 2
}
